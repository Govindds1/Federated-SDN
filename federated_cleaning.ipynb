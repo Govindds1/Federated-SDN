{
 "cells": [
  {
   "cell_type": "code",
   "execution_count": 2,
   "id": "6ca1cc0d",
   "metadata": {},
   "outputs": [],
   "source": [
    "import pandas as pd"
   ]
  },
  {
   "cell_type": "code",
   "execution_count": 4,
   "id": "3b495cfa",
   "metadata": {},
   "outputs": [],
   "source": [
    "df1 = pd.read_csv('./data/metasploitable-2.csv')\n",
    "df2 = pd.read_csv('./data/normal_data.csv')\n",
    "df3 = pd.read_csv('./data/OVS.csv')"
   ]
  },
  {
   "cell_type": "code",
   "execution_count": 5,
   "id": "d03b4a6c",
   "metadata": {},
   "outputs": [],
   "source": [
    "df = pd.concat([df1, df2, df3], ignore_index=True)"
   ]
  },
  {
   "cell_type": "code",
   "execution_count": 6,
   "id": "e54bf2b7",
   "metadata": {},
   "outputs": [
    {
     "name": "stdout",
     "output_type": "stream",
     "text": [
      "Shape of combined data: (343889, 84)\n",
      "\n",
      "Unique labels (attack types): ['U2R' 'BFA' 'DDoS' 'DoS' 'Probe' 'Normal' 'DDoS ' 'Web-Attack' 'BOTNET']\n",
      "\n",
      "Count of each label:\n",
      "Label\n",
      "Probe         98129\n",
      "DDoS          73529\n",
      "Normal        68424\n",
      "DoS           53616\n",
      "DDoS          48413\n",
      "BFA            1405\n",
      "Web-Attack      192\n",
      "BOTNET          164\n",
      "U2R              17\n",
      "Name: count, dtype: int64\n"
     ]
    }
   ],
   "source": [
    "print(\"Shape of combined data:\", df.shape)\n",
    "print(\"\\nUnique labels (attack types):\", df['Label'].unique())\n",
    "print(\"\\nCount of each label:\")\n",
    "print(df['Label'].value_counts())"
   ]
  },
  {
   "cell_type": "code",
   "execution_count": 7,
   "id": "362e0326",
   "metadata": {},
   "outputs": [],
   "source": [
    "df['Label'] = df['Label'].str.strip()"
   ]
  },
  {
   "cell_type": "code",
   "execution_count": 8,
   "id": "f24c0a58",
   "metadata": {},
   "outputs": [
    {
     "name": "stdout",
     "output_type": "stream",
     "text": [
      "Unique labels after cleaning: ['U2R' 'BFA' 'DDoS' 'DoS' 'Probe' 'Normal' 'Web-Attack' 'BOTNET']\n",
      "\n",
      "Updated count of each label:\n",
      "Label\n",
      "DDoS          121942\n",
      "Probe          98129\n",
      "Normal         68424\n",
      "DoS            53616\n",
      "BFA             1405\n",
      "Web-Attack       192\n",
      "BOTNET           164\n",
      "U2R               17\n",
      "Name: count, dtype: int64\n"
     ]
    }
   ],
   "source": [
    "print(\"Unique labels after cleaning:\", df['Label'].unique())\n",
    "print(\"\\nUpdated count of each label:\")\n",
    "print(df['Label'].value_counts())"
   ]
  },
  {
   "cell_type": "code",
   "execution_count": 9,
   "id": "27c2b7d3",
   "metadata": {},
   "outputs": [],
   "source": [
    "df.drop(['Flow ID', 'Src IP', 'Dst IP', 'Timestamp'], axis=1, inplace=True)\n"
   ]
  },
  {
   "cell_type": "code",
   "execution_count": 10,
   "id": "9126015b",
   "metadata": {},
   "outputs": [
    {
     "name": "stdout",
     "output_type": "stream",
     "text": [
      "Src Port         0\n",
      "Dst Port         0\n",
      "Protocol         0\n",
      "Flow Duration    0\n",
      "Tot Fwd Pkts     0\n",
      "                ..\n",
      "Idle Mean        0\n",
      "Idle Std         0\n",
      "Idle Max         0\n",
      "Idle Min         0\n",
      "Label            0\n",
      "Length: 80, dtype: int64\n"
     ]
    }
   ],
   "source": [
    "print(df.isnull().sum())\n"
   ]
  },
  {
   "cell_type": "code",
   "execution_count": 13,
   "id": "6f2cda1e",
   "metadata": {},
   "outputs": [],
   "source": [
    "import numpy as np\n",
    "\n",
    "df.replace([np.inf, -np.inf], np.nan, inplace=True)\n",
    "df.dropna(inplace=True)\n"
   ]
  },
  {
   "cell_type": "code",
   "execution_count": 15,
   "id": "a22de3c4",
   "metadata": {},
   "outputs": [],
   "source": [
    "import os"
   ]
  },
  {
   "cell_type": "code",
   "execution_count": 16,
   "id": "d80b9d3c",
   "metadata": {},
   "outputs": [],
   "source": [
    "os.makedirs(\"output\", exist_ok=True)"
   ]
  },
  {
   "cell_type": "code",
   "execution_count": 18,
   "id": "b6d6983f",
   "metadata": {},
   "outputs": [],
   "source": [
    "filtered_df = df[df[\"Label\"] != \"U2R\"]"
   ]
  },
  {
   "cell_type": "code",
   "execution_count": 19,
   "id": "2b792d43",
   "metadata": {},
   "outputs": [],
   "source": [
    "normal_data = filtered_df[filtered_df[\"Label\"] == \"Normal\"]"
   ]
  },
  {
   "cell_type": "code",
   "execution_count": 20,
   "id": "56de59f0",
   "metadata": {},
   "outputs": [],
   "source": [
    "ddos_df = pd.concat([\n",
    "    filtered_df[filtered_df[\"Label\"] == \"DDoS\"],\n",
    "    filtered_df[filtered_df[\"Label\"] == \"BFA\"],  # assign BFA here\n",
    "    normal_data\n",
    "], ignore_index=True)"
   ]
  },
  {
   "cell_type": "code",
   "execution_count": 21,
   "id": "860a46a8",
   "metadata": {},
   "outputs": [],
   "source": [
    "probe_df = pd.concat([\n",
    "    filtered_df[filtered_df[\"Label\"] == \"Probe\"],\n",
    "    filtered_df[filtered_df[\"Label\"] == \"Web-Attack\"],  # assign Web-Attack here\n",
    "    normal_data\n",
    "], ignore_index=True)"
   ]
  },
  {
   "cell_type": "code",
   "execution_count": 22,
   "id": "35e8be31",
   "metadata": {},
   "outputs": [],
   "source": [
    "dos_df = pd.concat([\n",
    "    filtered_df[filtered_df[\"Label\"] == \"DoS\"],\n",
    "    filtered_df[filtered_df[\"Label\"] == \"BOTNET\"],  # assign BOTNET here\n",
    "    normal_data\n",
    "], ignore_index=True)"
   ]
  },
  {
   "cell_type": "code",
   "execution_count": 23,
   "id": "8f936136",
   "metadata": {},
   "outputs": [],
   "source": [
    "ddos_df.to_csv(\"output/ddos_data.csv\", index=False)\n",
    "probe_df.to_csv(\"output/probe_data.csv\", index=False)\n",
    "dos_df.to_csv(\"output/dos_data.csv\", index=False)"
   ]
  },
  {
   "cell_type": "code",
   "execution_count": 24,
   "id": "c5b697ef",
   "metadata": {},
   "outputs": [
    {
     "name": "stdout",
     "output_type": "stream",
     "text": [
      "Files saved in /output:\n",
      " - ddos_data.csv\n",
      " - probe_data.csv\n",
      " - dos_data.csv\n"
     ]
    }
   ],
   "source": [
    "print(\"Files saved in /output:\")\n",
    "print(\" - ddos_data.csv\")\n",
    "print(\" - probe_data.csv\")\n",
    "print(\" - dos_data.csv\")"
   ]
  },
  {
   "cell_type": "code",
   "execution_count": 25,
   "id": "ecd31f43",
   "metadata": {},
   "outputs": [],
   "source": [
    "files = {\n",
    "    \"DDoS Dataset\": \"output/ddos_data.csv\",\n",
    "    \"Probe Dataset\": \"output/probe_data.csv\",\n",
    "    \"DoS Dataset\": \"output/dos_data.csv\"\n",
    "}"
   ]
  },
  {
   "cell_type": "code",
   "execution_count": 26,
   "id": "42e783b3",
   "metadata": {},
   "outputs": [
    {
     "name": "stdout",
     "output_type": "stream",
     "text": [
      "Label counts in DDoS Dataset:\n",
      "Label\n",
      "DDoS      121942\n",
      "Normal     68424\n",
      "BFA         1405\n",
      "Name: count, dtype: int64\n",
      "\n",
      "----------------------------------------\n",
      "\n",
      "Label counts in Probe Dataset:\n",
      "Label\n",
      "Probe         98129\n",
      "Normal        68424\n",
      "Web-Attack      192\n",
      "Name: count, dtype: int64\n",
      "\n",
      "----------------------------------------\n",
      "\n",
      "Label counts in DoS Dataset:\n",
      "Label\n",
      "Normal    68424\n",
      "DoS       53616\n",
      "BOTNET      164\n",
      "Name: count, dtype: int64\n",
      "\n",
      "----------------------------------------\n",
      "\n"
     ]
    }
   ],
   "source": [
    "for name, path in files.items():\n",
    "    df = pd.read_csv(path)\n",
    "    print(f\"Label counts in {name}:\")\n",
    "    print(df['Label'].value_counts())\n",
    "    print(\"\\n\" + \"-\"*40 + \"\\n\")"
   ]
  }
 ],
 "metadata": {
  "kernelspec": {
   "display_name": "Python 3",
   "language": "python",
   "name": "python3"
  },
  "language_info": {
   "codemirror_mode": {
    "name": "ipython",
    "version": 3
   },
   "file_extension": ".py",
   "mimetype": "text/x-python",
   "name": "python",
   "nbconvert_exporter": "python",
   "pygments_lexer": "ipython3",
   "version": "3.11.4"
  }
 },
 "nbformat": 4,
 "nbformat_minor": 5
}
